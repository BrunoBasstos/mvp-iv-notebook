{
 "cells": [
  {
   "cell_type": "markdown",
   "source": [],
   "metadata": {
    "collapsed": false
   },
   "id": "32f28261fa3a35f0"
  },
  {
   "cell_type": "markdown",
   "source": [
    "# ESSI - MVP - PUC-RIO - Bruno Bastos\n",
    "Este notebook contém o código para treinamento e avaliação dos modelos de classificação do dataset Titanic.\n",
    "Este projeto faz parte da última sprint do curso de enenharia de software da PUC-RIO."
   ],
   "metadata": {
    "collapsed": false
   },
   "id": "f2bd2214cb6c6b41"
  },
  {
   "cell_type": "markdown",
   "source": [
    "# Importações"
   ],
   "metadata": {
    "collapsed": false
   },
   "id": "890c9d25fa769115"
  },
  {
   "cell_type": "code",
   "execution_count": 8,
   "outputs": [],
   "source": [
    "import pandas as pd\n",
    "from sklearn.model_selection import train_test_split, GridSearchCV, StratifiedKFold, cross_val_score\n",
    "from sklearn.preprocessing import StandardScaler, OneHotEncoder, MinMaxScaler\n",
    "from sklearn.impute import SimpleImputer\n",
    "from sklearn.compose import ColumnTransformer\n",
    "from sklearn.pipeline import Pipeline\n",
    "from sklearn.neighbors import KNeighborsClassifier\n",
    "from sklearn.naive_bayes import GaussianNB\n",
    "from sklearn.tree import DecisionTreeClassifier\n",
    "from sklearn.svm import SVC\n",
    "from sklearn.metrics import accuracy_score\n",
    "import joblib\n",
    "from IPython.display import HTML\n",
    "import warnings\n",
    "\n",
    "warnings.filterwarnings('ignore')\n",
    "\n",
    "# definindo constantes para controle de seed e test_size\n",
    "SEED = 7\n",
    "TEST_SIZE = 1 / 4\n",
    "\n",
    "# ANOTAÇÕES SOBRE OS MELHORES RESULTADOS OBTIDOS\n",
    "# RF PADRONIZADO: 0.8841463414634146 (SEED=10 e TEST_SIZE=1/4)\n",
    "# SVM PADRONIZADO: 0.8475609756097561 (SEED=7 e TEST_SIZE=1/4)\n",
    "\n",
    "MODELOS_SOLICITADOS = ['KNN', 'NB', 'CART', 'SVM']\n",
    "USAR_APENAS_MODELOS_SOLICITADOS = True\n"
   ],
   "metadata": {
    "collapsed": false,
    "ExecuteTime": {
     "end_time": "2023-12-10T01:11:14.626444Z",
     "start_time": "2023-12-10T01:11:14.547490200Z"
    }
   },
   "id": "bdbf7946dc672b7e"
  },
  {
   "cell_type": "markdown",
   "source": [
    "# Carregar, explorar e tratar os dados"
   ],
   "metadata": {
    "collapsed": false
   },
   "id": "27afb16371e088bd"
  },
  {
   "cell_type": "code",
   "execution_count": 9,
   "outputs": [
    {
     "name": "stdout",
     "output_type": "stream",
     "text": [
      "Primeiras linhas:\n"
     ]
    },
    {
     "data": {
      "text/plain": "   PassengerId  Survived  Pclass  \\\n0            1         0       3   \n1            2         1       1   \n2            3         1       3   \n3            4         1       1   \n4            5         0       3   \n\n                                                Name     Sex   Age  SibSp  \\\n0                            Braund, Mr. Owen Harris    male  22.0      1   \n1  Cumings, Mrs. John Bradley (Florence Briggs Th...  female  38.0      1   \n2                             Heikkinen, Miss. Laina  female  26.0      0   \n3       Futrelle, Mrs. Jacques Heath (Lily May Peel)  female  35.0      1   \n4                           Allen, Mr. William Henry    male  35.0      0   \n\n   Parch            Ticket     Fare Cabin Embarked  \n0      0         A/5 21171   7.2500   NaN        S  \n1      0          PC 17599  71.2833   C85        C  \n2      0  STON/O2. 3101282   7.9250   NaN        S  \n3      0            113803  53.1000  C123        S  \n4      0            373450   8.0500   NaN        S  ",
      "text/html": "<div>\n<style scoped>\n    .dataframe tbody tr th:only-of-type {\n        vertical-align: middle;\n    }\n\n    .dataframe tbody tr th {\n        vertical-align: top;\n    }\n\n    .dataframe thead th {\n        text-align: right;\n    }\n</style>\n<table border=\"1\" class=\"dataframe\">\n  <thead>\n    <tr style=\"text-align: right;\">\n      <th></th>\n      <th>PassengerId</th>\n      <th>Survived</th>\n      <th>Pclass</th>\n      <th>Name</th>\n      <th>Sex</th>\n      <th>Age</th>\n      <th>SibSp</th>\n      <th>Parch</th>\n      <th>Ticket</th>\n      <th>Fare</th>\n      <th>Cabin</th>\n      <th>Embarked</th>\n    </tr>\n  </thead>\n  <tbody>\n    <tr>\n      <th>0</th>\n      <td>1</td>\n      <td>0</td>\n      <td>3</td>\n      <td>Braund, Mr. Owen Harris</td>\n      <td>male</td>\n      <td>22.0</td>\n      <td>1</td>\n      <td>0</td>\n      <td>A/5 21171</td>\n      <td>7.2500</td>\n      <td>NaN</td>\n      <td>S</td>\n    </tr>\n    <tr>\n      <th>1</th>\n      <td>2</td>\n      <td>1</td>\n      <td>1</td>\n      <td>Cumings, Mrs. John Bradley (Florence Briggs Th...</td>\n      <td>female</td>\n      <td>38.0</td>\n      <td>1</td>\n      <td>0</td>\n      <td>PC 17599</td>\n      <td>71.2833</td>\n      <td>C85</td>\n      <td>C</td>\n    </tr>\n    <tr>\n      <th>2</th>\n      <td>3</td>\n      <td>1</td>\n      <td>3</td>\n      <td>Heikkinen, Miss. Laina</td>\n      <td>female</td>\n      <td>26.0</td>\n      <td>0</td>\n      <td>0</td>\n      <td>STON/O2. 3101282</td>\n      <td>7.9250</td>\n      <td>NaN</td>\n      <td>S</td>\n    </tr>\n    <tr>\n      <th>3</th>\n      <td>4</td>\n      <td>1</td>\n      <td>1</td>\n      <td>Futrelle, Mrs. Jacques Heath (Lily May Peel)</td>\n      <td>female</td>\n      <td>35.0</td>\n      <td>1</td>\n      <td>0</td>\n      <td>113803</td>\n      <td>53.1000</td>\n      <td>C123</td>\n      <td>S</td>\n    </tr>\n    <tr>\n      <th>4</th>\n      <td>5</td>\n      <td>0</td>\n      <td>3</td>\n      <td>Allen, Mr. William Henry</td>\n      <td>male</td>\n      <td>35.0</td>\n      <td>0</td>\n      <td>0</td>\n      <td>373450</td>\n      <td>8.0500</td>\n      <td>NaN</td>\n      <td>S</td>\n    </tr>\n  </tbody>\n</table>\n</div>"
     },
     "metadata": {},
     "output_type": "display_data"
    },
    {
     "name": "stdout",
     "output_type": "stream",
     "text": [
      "Tipos de dados, valores únicos e valores nulos:\n"
     ]
    },
    {
     "data": {
      "text/plain": "              dtypes  valores únicos  valores nulos\nPassengerId    int64            1309              0\nSurvived       int64               2              0\nPclass         int64               3              0\nName          object            1307              0\nSex           object               2              0\nAge          float64              98            263\nSibSp          int64               7              0\nParch          int64               8              0\nTicket        object             929              0\nFare         float64             281              1\nCabin         object             186           1014\nEmbarked      object               3              2",
      "text/html": "<div>\n<style scoped>\n    .dataframe tbody tr th:only-of-type {\n        vertical-align: middle;\n    }\n\n    .dataframe tbody tr th {\n        vertical-align: top;\n    }\n\n    .dataframe thead th {\n        text-align: right;\n    }\n</style>\n<table border=\"1\" class=\"dataframe\">\n  <thead>\n    <tr style=\"text-align: right;\">\n      <th></th>\n      <th>dtypes</th>\n      <th>valores únicos</th>\n      <th>valores nulos</th>\n    </tr>\n  </thead>\n  <tbody>\n    <tr>\n      <th>PassengerId</th>\n      <td>int64</td>\n      <td>1309</td>\n      <td>0</td>\n    </tr>\n    <tr>\n      <th>Survived</th>\n      <td>int64</td>\n      <td>2</td>\n      <td>0</td>\n    </tr>\n    <tr>\n      <th>Pclass</th>\n      <td>int64</td>\n      <td>3</td>\n      <td>0</td>\n    </tr>\n    <tr>\n      <th>Name</th>\n      <td>object</td>\n      <td>1307</td>\n      <td>0</td>\n    </tr>\n    <tr>\n      <th>Sex</th>\n      <td>object</td>\n      <td>2</td>\n      <td>0</td>\n    </tr>\n    <tr>\n      <th>Age</th>\n      <td>float64</td>\n      <td>98</td>\n      <td>263</td>\n    </tr>\n    <tr>\n      <th>SibSp</th>\n      <td>int64</td>\n      <td>7</td>\n      <td>0</td>\n    </tr>\n    <tr>\n      <th>Parch</th>\n      <td>int64</td>\n      <td>8</td>\n      <td>0</td>\n    </tr>\n    <tr>\n      <th>Ticket</th>\n      <td>object</td>\n      <td>929</td>\n      <td>0</td>\n    </tr>\n    <tr>\n      <th>Fare</th>\n      <td>float64</td>\n      <td>281</td>\n      <td>1</td>\n    </tr>\n    <tr>\n      <th>Cabin</th>\n      <td>object</td>\n      <td>186</td>\n      <td>1014</td>\n    </tr>\n    <tr>\n      <th>Embarked</th>\n      <td>object</td>\n      <td>3</td>\n      <td>2</td>\n    </tr>\n  </tbody>\n</table>\n</div>"
     },
     "metadata": {},
     "output_type": "display_data"
    }
   ],
   "source": [
    "# Carregar o dataset\n",
    "url = \"https://raw.githubusercontent.com/BrunoBasstos/mvp-essi/main/.src/titanic-dataset.csv\"\n",
    "original_ds = pd.read_csv(url)\n",
    "\n",
    "# Explorando os dados\n",
    "\n",
    "# Exibir as primeiras linhas\n",
    "print(\"Primeiras linhas:\")\n",
    "display(original_ds.head())\n",
    "\n",
    "# exibir dtypes, valores únicos e valores nulos\n",
    "print(\"Tipos de dados, valores únicos e valores nulos:\")\n",
    "display(pd.concat([original_ds.dtypes, original_ds.nunique(), original_ds.isnull().sum()], axis=1,\n",
    "                  keys=['dtypes', 'valores únicos', 'valores nulos']))\n",
    "\n",
    "# valores únicos, em tese, podem ser menos relevantes para o modelo. Para fins de teste, \n",
    "# vou desconsiderar as colunas PassengerId e Name (embora Name pareça ter informações relevantes, como o título da pessoa)\n",
    "colunas_desconsiderar = ['PassengerId', 'Name']\n",
    "\n",
    "# Tratar as idades nulas pode ajudar o modelo, vamos tentar alguma estratégia que calcule a média de idade mas mantendo segregado por sexo e classe\n",
    "# criar um dicionário com a média de idade por sexo e classe\n",
    "media_idade_por_sexo_classe = original_ds.groupby(['Sex', 'Pclass'])['Age'].mean()\n",
    "\n",
    "\n",
    "# Função para preencher idades nulas\n",
    "def preencher_idade(row):\n",
    "    # Se a idade é nula\n",
    "    if pd.isnull(row['Age']):\n",
    "        # Retornar a média de idade para a combinação de sexo e classe do passageiro\n",
    "        return media_idade_por_sexo_classe[row['Sex'], row['Pclass']]\n",
    "    else:\n",
    "        # Se a idade não é nula, retornar a idade\n",
    "        return row['Age']\n",
    "\n",
    "\n",
    "# substituindo os valores nulos de idade no dataset original\n",
    "original_ds['Age'] = original_ds.apply(preencher_idade, axis=1)\n",
    "\n",
    "# Cabin tem muitos valores nulos, mas pode ser relevante para o modelo considerando que a cabine indica a posição do passageiro no navio\n",
    "# Vou definir um trasnformador para converter a coluna Cabin em números, e vou aplicá-lo no pré-processamento para que possa ser aproveitado no modelo exportado\n",
    "# O transformador vai converter a coluna Cabin em números, considerando apenas a primeira letra da cabine (que indica a posição no navio)\n",
    "# A letra A será convertida para 1, B para 2, e assim por diante\n",
    "# importar CabinToNumber de transformes.py\n",
    "\n",
    "# Selecionar colunas consideradas relevantes para o modelo (todas as colunas, exceto as marcadas como \"desconsiderar\")\n",
    "colunas = original_ds.columns.difference(colunas_desconsiderar)\n",
    "data = original_ds[colunas]"
   ],
   "metadata": {
    "collapsed": false,
    "ExecuteTime": {
     "end_time": "2023-12-10T01:11:15.310513700Z",
     "start_time": "2023-12-10T01:11:14.643446700Z"
    }
   },
   "id": "276a3987aaf2d348"
  },
  {
   "cell_type": "markdown",
   "source": [
    "# Separação os dados "
   ],
   "metadata": {
    "collapsed": false
   },
   "id": "312deea123ca6087"
  },
  {
   "cell_type": "code",
   "execution_count": 10,
   "outputs": [],
   "source": [
    "# Divisão dos dados em treino e teste\n",
    "X = data.drop('Survived', axis=1)\n",
    "y = data['Survived']\n",
    "X_train, X_test, y_train, y_test = train_test_split(X, y, test_size=TEST_SIZE, random_state=SEED)\n",
    "\n",
    "# Separando os dados em numéricos e categóricos (deixar Cabin fora pois terá tratamento separado\n",
    "num_features = ['Age', 'Fare', 'Parch', 'Pclass', 'SibSp']\n",
    "cat_features = ['Sex', 'Embarked']"
   ],
   "metadata": {
    "collapsed": false,
    "ExecuteTime": {
     "end_time": "2023-12-10T01:11:15.312538900Z",
     "start_time": "2023-12-10T01:11:15.221175900Z"
    }
   },
   "id": "d5f759a8c30fcaaa"
  },
  {
   "cell_type": "markdown",
   "source": [
    "# Definição dos modelos e pré-processadores"
   ],
   "metadata": {
    "collapsed": false
   },
   "id": "d615537ceef326e1"
  },
  {
   "cell_type": "code",
   "execution_count": 11,
   "outputs": [],
   "source": [
    "from transformers import CabinToNumber\n",
    "from sklearn.linear_model import LogisticRegression\n",
    "from sklearn.ensemble import RandomForestClassifier\n",
    "\n",
    "# Configurações dos modelos\n",
    "modelos = {\n",
    "    'KNN': KNeighborsClassifier(),\n",
    "    'NB': GaussianNB(),\n",
    "    'CART': DecisionTreeClassifier(random_state=SEED),\n",
    "    'SVM': SVC(random_state=SEED, probability=True),\n",
    "    # adicionando mais modelos por curiosidade (manter apenas os modelos solicitados) \n",
    "    'RF': RandomForestClassifier(),\n",
    "    'LR': LogisticRegression(),\n",
    "}\n",
    "\n",
    "parametros = {\n",
    "    'KNN': {'classifier__n_neighbors': [3, 5, 7, 9]},\n",
    "    'NB': {'classifier__var_smoothing': [1e-9, 1e-8, 1e-7, 1e-6]},\n",
    "    'CART': {'classifier__max_depth': [3, 5, 7, None], 'classifier__min_samples_split': [2, 3, 5]},\n",
    "    'SVM': {'classifier__C': [0.1, 1, 10, 100], 'classifier__gamma': ['scale', 'auto']},\n",
    "    # adicionando mais modelos por curiosidade (manter apenas os modelos solicitados)\n",
    "    'RF': {'classifier__n_estimators': [100, 200, 300], 'classifier__max_depth': [3, 5, 7, None],\n",
    "           'classifier__min_samples_split': [2, 3, 5], 'classifier__n_jobs': [-1]},\n",
    "    'LR': {'classifier__C': [0.1, 1, 10, 100], 'classifier__solver': ['newton-cg', 'lbfgs', 'liblinear', 'sag', 'saga']}\n",
    "}\n",
    "\n",
    "# Preparação de Pré-processadores\n",
    "preprocessors = {\n",
    "    'original': ColumnTransformer(transformers=[\n",
    "        ('cabin', CabinToNumber(), ['Cabin']),\n",
    "        ('num', SimpleImputer(strategy='median'), num_features),\n",
    "        ('cat', OneHotEncoder(handle_unknown='ignore'), cat_features)\n",
    "    ]),\n",
    "    'padronizado': ColumnTransformer(transformers=[\n",
    "        ('cabin', CabinToNumber(), ['Cabin']),\n",
    "        ('num', Pipeline([('imputer', SimpleImputer(strategy='median')), ('scaler', StandardScaler())]), num_features),\n",
    "        ('cat', OneHotEncoder(handle_unknown='ignore'), cat_features)\n",
    "    ]),\n",
    "    'normalizado': ColumnTransformer(transformers=[\n",
    "        ('cabin', CabinToNumber(), ['Cabin']),\n",
    "        ('num', Pipeline([('imputer', SimpleImputer(strategy='median')), ('scaler', MinMaxScaler())]), num_features),\n",
    "        ('cat', OneHotEncoder(handle_unknown='ignore'), cat_features)\n",
    "    ])\n",
    "}"
   ],
   "metadata": {
    "collapsed": false,
    "ExecuteTime": {
     "end_time": "2023-12-10T01:11:15.493517200Z",
     "start_time": "2023-12-10T01:11:15.239822700Z"
    }
   },
   "id": "bd15436b567efb2e"
  },
  {
   "cell_type": "markdown",
   "source": [
    "# Treinamento e avaliação dos modelos"
   ],
   "metadata": {
    "collapsed": false
   },
   "id": "5340b3291df65caa"
  },
  {
   "cell_type": "code",
   "execution_count": 12,
   "outputs": [
    {
     "name": "stdout",
     "output_type": "stream",
     "text": [
      "original - KNN: Melhor Score = 0.7074432818812805\n",
      "original - NB: Melhor Score = 0.8409820781104319\n",
      "original - CART: Melhor Score = 0.8572775303014607\n",
      "original - SVM: Melhor Score = 0.8430177147000932\n",
      "padronizado - KNN: Melhor Score = 0.8603387547912567\n",
      "padronizado - NB: Melhor Score = 0.7696104837874237\n",
      "padronizado - CART: Melhor Score = 0.8572775303014607\n",
      "padronizado - SVM: Melhor Score = 0.8695224282606444\n",
      "normalizado - KNN: Melhor Score = 0.8593183466279912\n",
      "normalizado - NB: Melhor Score = 0.7696104837874237\n",
      "normalizado - CART: Melhor Score = 0.8572775303014607\n",
      "normalizado - SVM: Melhor Score = 0.8644307469180564\n"
     ]
    },
    {
     "data": {
      "text/plain": "<Figure size 1200x600 with 1 Axes>",
      "image/png": "[encoded data removed]"
     },
     "metadata": {},
     "output_type": "display_data"
    }
   ],
   "source": [
    "from matplotlib import pyplot as plt\n",
    "\n",
    "# Avaliação dos Modelos com Diferentes Pré-processamentos\n",
    "# Como o dataset é pequeno, optei por fazer o processo automaticamente usando um loop duplo e fazendo a validação cruzada de cada modelo\n",
    "\n",
    "# Criação do objeto kfold para validação cruzada \n",
    "kfold = StratifiedKFold(n_splits=5, shuffle=True, random_state=SEED)\n",
    "\n",
    "# lista para armazenar os melhores resultados\n",
    "melhores_resultados = {}\n",
    "\n",
    "# Dicionário para armazenar os resultados de validação cruzada de cada modelo\n",
    "resultados_cv = {}\n",
    "\n",
    "# Iterando sobre cada pré-processador e modelo para treinamento e avaliação\n",
    "for preproc_nome, preproc in preprocessors.items():\n",
    "    for nome_modelo, modelo in modelos.items():\n",
    "        # Se a flag USAR_APENAS_MODELOS_SOLICITADOS for verdadeira, pula os modelos não solicitados (facilitar a execução pelos professores)        \n",
    "        if USAR_APENAS_MODELOS_SOLICITADOS and nome_modelo not in MODELOS_SOLICITADOS:\n",
    "            continue\n",
    "\n",
    "        # Criando um pipeline com o pré-processador e o modelo atual\n",
    "        pipeline = Pipeline([('preprocessor', preproc), ('classifier', modelo)])\n",
    "\n",
    "        # Verifica se há parâmetros definidos para o modelo atual\n",
    "        if parametros[nome_modelo]:\n",
    "            # Cria um objeto GridSearchCV para otimização de hiperparâmetros\n",
    "            grid_search = GridSearchCV(pipeline, parametros[nome_modelo], cv=kfold, scoring='accuracy')\n",
    "            # Treina o modelo com o GridSearchCV\n",
    "            grid_search.fit(X_train, y_train)\n",
    "            # Salva o melhor modelo encontrado para incluir na lista de melhores resultados\n",
    "            melhor_modelo = grid_search.best_estimator_\n",
    "            # Salva o melhor score obtido para incluir na lista de melhores resultados\n",
    "            score = grid_search.best_score_\n",
    "        else:\n",
    "            # Se não há parâmetros para ajustar, usa o modelo como está \n",
    "            melhor_modelo = pipeline\n",
    "            melhor_modelo.fit(X_train, y_train)  # Treinando o modelo\n",
    "            # Calculando a média de acurácia com validação cruzada\n",
    "            score = cross_val_score(melhor_modelo, X_train, y_train, cv=kfold, scoring='accuracy').mean()\n",
    "\n",
    "        # Exibindo os resultados\n",
    "        print(f\"{preproc_nome} - {nome_modelo}: Melhor Score = {score}\")\n",
    "        # Armazenando o melhor modelo e o score correspondente no dicionário\n",
    "        melhores_resultados[f\"{preproc_nome}_{nome_modelo}\"] = (melhor_modelo, score)\n",
    "        # Armazenando os resultados do melhor modelo da validação cruzada\n",
    "        resultados_cv[f\"{preproc_nome}_{nome_modelo}\"] = cross_val_score(melhor_modelo, X_train, y_train, cv=kfold,\n",
    "                                                                         scoring='accuracy')\n",
    "\n",
    "# Criando o boxplot para comparação dos resultados\n",
    "fig = plt.figure(figsize=(12, 6))\n",
    "fig.suptitle('Comparação de Acurácia dos Modelos com Diferentes Pré-processadores')\n",
    "ax = fig.add_subplot(111)\n",
    "plt.boxplot(resultados_cv.values())\n",
    "ax.set_xticklabels(resultados_cv.keys())\n",
    "plt.xticks(rotation=45)\n",
    "plt.ylabel('Acurácia')\n",
    "plt.show()\n",
    "\n"
   ],
   "metadata": {
    "collapsed": false,
    "ExecuteTime": {
     "end_time": "2023-12-10T01:11:53.302628200Z",
     "start_time": "2023-12-10T01:11:15.257813Z"
    }
   },
   "id": "bf3901a67c25a63b"
  },
  {
   "cell_type": "markdown",
   "source": [
    "# Escolhe, treina e salva o melhor modelo"
   ],
   "metadata": {
    "collapsed": false
   },
   "id": "2a0913fee0766ace"
  },
  {
   "cell_type": "code",
   "execution_count": 13,
   "outputs": [
    {
     "name": "stdout",
     "output_type": "stream",
     "text": [
      "Acurácia do melhor modelo no conjunto de teste: 0.8475609756097561\n",
      "Melhor modelo geral (padronizado_SVM) exportado como '_titanic.pkl'\n"
     ]
    }
   ],
   "source": [
    "# Escolher o Melhor Modelo Geral\n",
    "melhor_modelo_geral = max(melhores_resultados.items(), key=lambda x: x[1][1])\n",
    "\n",
    "# Treinar o melhor modelo geral com todo o conjunto de treinamento\n",
    "melhor_modelo_geral[1][0].fit(X_train, y_train)\n",
    "\n",
    "# Avaliar a acurácia do melhor modelo no conjunto de teste\n",
    "y_pred = melhor_modelo_geral[1][0].predict(X_test)\n",
    "accuracy = accuracy_score(y_test, y_pred)\n",
    "print(f\"Acurácia do melhor modelo no conjunto de teste: {accuracy}\")\n",
    "\n",
    "# Exportar o melhor modelo\n",
    "joblib.dump(melhor_modelo_geral[1][0], f'_titanic.pkl')\n",
    "print(f\"Melhor modelo geral ({melhor_modelo_geral[0]}) exportado como '_titanic.pkl'\")\n",
    "\n",
    "# Exportar o dataset de teste para uso nos testes automatizados\n",
    "test_dataset = pd.concat([X_test, y_test], axis=1)\n",
    "test_dataset.to_csv('_test_dataset.csv', index=False)\n"
   ],
   "metadata": {
    "collapsed": false,
    "ExecuteTime": {
     "end_time": "2023-12-10T01:11:53.564818100Z",
     "start_time": "2023-12-10T01:11:53.321651700Z"
    }
   },
   "id": "c087da713af1c310"
  },
  {
   "cell_type": "markdown",
   "source": [
    "# Exemplo de uso do modelo"
   ],
   "metadata": {
    "collapsed": false
   },
   "id": "dda130d81b90c7f7"
  },
  {
   "cell_type": "code",
   "execution_count": 14,
   "outputs": [
    {
     "ename": "ValueError",
     "evalue": "Cannot use median strategy with non-numeric data:\ncould not convert string to float: 'male'",
     "output_type": "error",
     "traceback": [
      "\u001B[1;31m---------------------------------------------------------------------------\u001B[0m",
      "\u001B[1;31mValueError\u001B[0m                                Traceback (most recent call last)",
      "Cell \u001B[1;32mIn[14], line 27\u001B[0m\n\u001B[0;32m     13\u001B[0m entrada1 \u001B[38;5;241m=\u001B[39m {\n\u001B[0;32m     14\u001B[0m     \u001B[38;5;124m'\u001B[39m\u001B[38;5;124mPclass\u001B[39m\u001B[38;5;124m'\u001B[39m: \u001B[38;5;241m3\u001B[39m,\n\u001B[0;32m     15\u001B[0m     \u001B[38;5;124m'\u001B[39m\u001B[38;5;124mName\u001B[39m\u001B[38;5;124m'\u001B[39m: \u001B[38;5;124m'\u001B[39m\u001B[38;5;124mMr. Owen Harris Braund\u001B[39m\u001B[38;5;124m'\u001B[39m,\n\u001B[1;32m   (...)\u001B[0m\n\u001B[0;32m     23\u001B[0m     \u001B[38;5;124m'\u001B[39m\u001B[38;5;124mEmbarked\u001B[39m\u001B[38;5;124m'\u001B[39m: \u001B[38;5;124m'\u001B[39m\u001B[38;5;124mS\u001B[39m\u001B[38;5;124m'\u001B[39m\n\u001B[0;32m     24\u001B[0m }\n\u001B[0;32m     26\u001B[0m entrada1 \u001B[38;5;241m=\u001B[39m pd\u001B[38;5;241m.\u001B[39mDataFrame(entrada1, index\u001B[38;5;241m=\u001B[39m[\u001B[38;5;241m0\u001B[39m])\n\u001B[1;32m---> 27\u001B[0m predicao1 \u001B[38;5;241m=\u001B[39m \u001B[43mmodelo\u001B[49m\u001B[38;5;241;43m.\u001B[39;49m\u001B[43mpredict\u001B[49m\u001B[43m(\u001B[49m\u001B[43mentrada1\u001B[49m\u001B[43m)\u001B[49m\n\u001B[0;32m     28\u001B[0m display(exibir_predicao(predicao1, \u001B[38;5;241m1\u001B[39m))\n\u001B[0;32m     29\u001B[0m \u001B[38;5;66;03m# Teste 2\u001B[39;00m\n\u001B[0;32m     30\u001B[0m \n\u001B[0;32m     31\u001B[0m \u001B[38;5;66;03m# Dados de entrada\u001B[39;00m\n",
      "File \u001B[1;32m~\\PycharmProjects\\puc-rio\\mvp-essi\\venv\\Lib\\site-packages\\sklearn\\pipeline.py:514\u001B[0m, in \u001B[0;36mPipeline.predict\u001B[1;34m(self, X, **predict_params)\u001B[0m\n\u001B[0;32m    512\u001B[0m Xt \u001B[38;5;241m=\u001B[39m X\n\u001B[0;32m    513\u001B[0m \u001B[38;5;28;01mfor\u001B[39;00m _, name, transform \u001B[38;5;129;01min\u001B[39;00m \u001B[38;5;28mself\u001B[39m\u001B[38;5;241m.\u001B[39m_iter(with_final\u001B[38;5;241m=\u001B[39m\u001B[38;5;28;01mFalse\u001B[39;00m):\n\u001B[1;32m--> 514\u001B[0m     Xt \u001B[38;5;241m=\u001B[39m \u001B[43mtransform\u001B[49m\u001B[38;5;241;43m.\u001B[39;49m\u001B[43mtransform\u001B[49m\u001B[43m(\u001B[49m\u001B[43mXt\u001B[49m\u001B[43m)\u001B[49m\n\u001B[0;32m    515\u001B[0m \u001B[38;5;28;01mreturn\u001B[39;00m \u001B[38;5;28mself\u001B[39m\u001B[38;5;241m.\u001B[39msteps[\u001B[38;5;241m-\u001B[39m\u001B[38;5;241m1\u001B[39m][\u001B[38;5;241m1\u001B[39m]\u001B[38;5;241m.\u001B[39mpredict(Xt, \u001B[38;5;241m*\u001B[39m\u001B[38;5;241m*\u001B[39mpredict_params)\n",
      "File \u001B[1;32m~\\PycharmProjects\\puc-rio\\mvp-essi\\venv\\Lib\\site-packages\\sklearn\\utils\\_set_output.py:157\u001B[0m, in \u001B[0;36m_wrap_method_output.<locals>.wrapped\u001B[1;34m(self, X, *args, **kwargs)\u001B[0m\n\u001B[0;32m    155\u001B[0m \u001B[38;5;129m@wraps\u001B[39m(f)\n\u001B[0;32m    156\u001B[0m \u001B[38;5;28;01mdef\u001B[39;00m \u001B[38;5;21mwrapped\u001B[39m(\u001B[38;5;28mself\u001B[39m, X, \u001B[38;5;241m*\u001B[39margs, \u001B[38;5;241m*\u001B[39m\u001B[38;5;241m*\u001B[39mkwargs):\n\u001B[1;32m--> 157\u001B[0m     data_to_wrap \u001B[38;5;241m=\u001B[39m \u001B[43mf\u001B[49m\u001B[43m(\u001B[49m\u001B[38;5;28;43mself\u001B[39;49m\u001B[43m,\u001B[49m\u001B[43m \u001B[49m\u001B[43mX\u001B[49m\u001B[43m,\u001B[49m\u001B[43m \u001B[49m\u001B[38;5;241;43m*\u001B[39;49m\u001B[43margs\u001B[49m\u001B[43m,\u001B[49m\u001B[43m \u001B[49m\u001B[38;5;241;43m*\u001B[39;49m\u001B[38;5;241;43m*\u001B[39;49m\u001B[43mkwargs\u001B[49m\u001B[43m)\u001B[49m\n\u001B[0;32m    158\u001B[0m     \u001B[38;5;28;01mif\u001B[39;00m \u001B[38;5;28misinstance\u001B[39m(data_to_wrap, \u001B[38;5;28mtuple\u001B[39m):\n\u001B[0;32m    159\u001B[0m         \u001B[38;5;66;03m# only wrap the first output for cross decomposition\u001B[39;00m\n\u001B[0;32m    160\u001B[0m         return_tuple \u001B[38;5;241m=\u001B[39m (\n\u001B[0;32m    161\u001B[0m             _wrap_data_with_container(method, data_to_wrap[\u001B[38;5;241m0\u001B[39m], X, \u001B[38;5;28mself\u001B[39m),\n\u001B[0;32m    162\u001B[0m             \u001B[38;5;241m*\u001B[39mdata_to_wrap[\u001B[38;5;241m1\u001B[39m:],\n\u001B[0;32m    163\u001B[0m         )\n",
      "File \u001B[1;32m~\\PycharmProjects\\puc-rio\\mvp-essi\\venv\\Lib\\site-packages\\sklearn\\compose\\_column_transformer.py:827\u001B[0m, in \u001B[0;36mColumnTransformer.transform\u001B[1;34m(self, X)\u001B[0m\n\u001B[0;32m    822\u001B[0m \u001B[38;5;28;01melse\u001B[39;00m:\n\u001B[0;32m    823\u001B[0m     \u001B[38;5;66;03m# ndarray was used for fitting or transforming, thus we only\u001B[39;00m\n\u001B[0;32m    824\u001B[0m     \u001B[38;5;66;03m# check that n_features_in_ is consistent\u001B[39;00m\n\u001B[0;32m    825\u001B[0m     \u001B[38;5;28mself\u001B[39m\u001B[38;5;241m.\u001B[39m_check_n_features(X, reset\u001B[38;5;241m=\u001B[39m\u001B[38;5;28;01mFalse\u001B[39;00m)\n\u001B[1;32m--> 827\u001B[0m Xs \u001B[38;5;241m=\u001B[39m \u001B[38;5;28;43mself\u001B[39;49m\u001B[38;5;241;43m.\u001B[39;49m\u001B[43m_fit_transform\u001B[49m\u001B[43m(\u001B[49m\n\u001B[0;32m    828\u001B[0m \u001B[43m    \u001B[49m\u001B[43mX\u001B[49m\u001B[43m,\u001B[49m\n\u001B[0;32m    829\u001B[0m \u001B[43m    \u001B[49m\u001B[38;5;28;43;01mNone\u001B[39;49;00m\u001B[43m,\u001B[49m\n\u001B[0;32m    830\u001B[0m \u001B[43m    \u001B[49m\u001B[43m_transform_one\u001B[49m\u001B[43m,\u001B[49m\n\u001B[0;32m    831\u001B[0m \u001B[43m    \u001B[49m\u001B[43mfitted\u001B[49m\u001B[38;5;241;43m=\u001B[39;49m\u001B[38;5;28;43;01mTrue\u001B[39;49;00m\u001B[43m,\u001B[49m\n\u001B[0;32m    832\u001B[0m \u001B[43m    \u001B[49m\u001B[43mcolumn_as_strings\u001B[49m\u001B[38;5;241;43m=\u001B[39;49m\u001B[43mfit_dataframe_and_transform_dataframe\u001B[49m\u001B[43m,\u001B[49m\n\u001B[0;32m    833\u001B[0m \u001B[43m\u001B[49m\u001B[43m)\u001B[49m\n\u001B[0;32m    834\u001B[0m \u001B[38;5;28mself\u001B[39m\u001B[38;5;241m.\u001B[39m_validate_output(Xs)\n\u001B[0;32m    836\u001B[0m \u001B[38;5;28;01mif\u001B[39;00m \u001B[38;5;129;01mnot\u001B[39;00m Xs:\n\u001B[0;32m    837\u001B[0m     \u001B[38;5;66;03m# All transformers are None\u001B[39;00m\n",
      "File \u001B[1;32m~\\PycharmProjects\\puc-rio\\mvp-essi\\venv\\Lib\\site-packages\\sklearn\\compose\\_column_transformer.py:681\u001B[0m, in \u001B[0;36mColumnTransformer._fit_transform\u001B[1;34m(self, X, y, func, fitted, column_as_strings)\u001B[0m\n\u001B[0;32m    675\u001B[0m transformers \u001B[38;5;241m=\u001B[39m \u001B[38;5;28mlist\u001B[39m(\n\u001B[0;32m    676\u001B[0m     \u001B[38;5;28mself\u001B[39m\u001B[38;5;241m.\u001B[39m_iter(\n\u001B[0;32m    677\u001B[0m         fitted\u001B[38;5;241m=\u001B[39mfitted, replace_strings\u001B[38;5;241m=\u001B[39m\u001B[38;5;28;01mTrue\u001B[39;00m, column_as_strings\u001B[38;5;241m=\u001B[39mcolumn_as_strings\n\u001B[0;32m    678\u001B[0m     )\n\u001B[0;32m    679\u001B[0m )\n\u001B[0;32m    680\u001B[0m \u001B[38;5;28;01mtry\u001B[39;00m:\n\u001B[1;32m--> 681\u001B[0m     \u001B[38;5;28;01mreturn\u001B[39;00m \u001B[43mParallel\u001B[49m\u001B[43m(\u001B[49m\u001B[43mn_jobs\u001B[49m\u001B[38;5;241;43m=\u001B[39;49m\u001B[38;5;28;43mself\u001B[39;49m\u001B[38;5;241;43m.\u001B[39;49m\u001B[43mn_jobs\u001B[49m\u001B[43m)\u001B[49m\u001B[43m(\u001B[49m\n\u001B[0;32m    682\u001B[0m \u001B[43m        \u001B[49m\u001B[43mdelayed\u001B[49m\u001B[43m(\u001B[49m\u001B[43mfunc\u001B[49m\u001B[43m)\u001B[49m\u001B[43m(\u001B[49m\n\u001B[0;32m    683\u001B[0m \u001B[43m            \u001B[49m\u001B[43mtransformer\u001B[49m\u001B[38;5;241;43m=\u001B[39;49m\u001B[43mclone\u001B[49m\u001B[43m(\u001B[49m\u001B[43mtrans\u001B[49m\u001B[43m)\u001B[49m\u001B[43m \u001B[49m\u001B[38;5;28;43;01mif\u001B[39;49;00m\u001B[43m \u001B[49m\u001B[38;5;129;43;01mnot\u001B[39;49;00m\u001B[43m \u001B[49m\u001B[43mfitted\u001B[49m\u001B[43m \u001B[49m\u001B[38;5;28;43;01melse\u001B[39;49;00m\u001B[43m \u001B[49m\u001B[43mtrans\u001B[49m\u001B[43m,\u001B[49m\n\u001B[0;32m    684\u001B[0m \u001B[43m            \u001B[49m\u001B[43mX\u001B[49m\u001B[38;5;241;43m=\u001B[39;49m\u001B[43m_safe_indexing\u001B[49m\u001B[43m(\u001B[49m\u001B[43mX\u001B[49m\u001B[43m,\u001B[49m\u001B[43m \u001B[49m\u001B[43mcolumn\u001B[49m\u001B[43m,\u001B[49m\u001B[43m \u001B[49m\u001B[43maxis\u001B[49m\u001B[38;5;241;43m=\u001B[39;49m\u001B[38;5;241;43m1\u001B[39;49m\u001B[43m)\u001B[49m\u001B[43m,\u001B[49m\n\u001B[0;32m    685\u001B[0m \u001B[43m            \u001B[49m\u001B[43my\u001B[49m\u001B[38;5;241;43m=\u001B[39;49m\u001B[43my\u001B[49m\u001B[43m,\u001B[49m\n\u001B[0;32m    686\u001B[0m \u001B[43m            \u001B[49m\u001B[43mweight\u001B[49m\u001B[38;5;241;43m=\u001B[39;49m\u001B[43mweight\u001B[49m\u001B[43m,\u001B[49m\n\u001B[0;32m    687\u001B[0m \u001B[43m            \u001B[49m\u001B[43mmessage_clsname\u001B[49m\u001B[38;5;241;43m=\u001B[39;49m\u001B[38;5;124;43m\"\u001B[39;49m\u001B[38;5;124;43mColumnTransformer\u001B[39;49m\u001B[38;5;124;43m\"\u001B[39;49m\u001B[43m,\u001B[49m\n\u001B[0;32m    688\u001B[0m \u001B[43m            \u001B[49m\u001B[43mmessage\u001B[49m\u001B[38;5;241;43m=\u001B[39;49m\u001B[38;5;28;43mself\u001B[39;49m\u001B[38;5;241;43m.\u001B[39;49m\u001B[43m_log_message\u001B[49m\u001B[43m(\u001B[49m\u001B[43mname\u001B[49m\u001B[43m,\u001B[49m\u001B[43m \u001B[49m\u001B[43midx\u001B[49m\u001B[43m,\u001B[49m\u001B[43m \u001B[49m\u001B[38;5;28;43mlen\u001B[39;49m\u001B[43m(\u001B[49m\u001B[43mtransformers\u001B[49m\u001B[43m)\u001B[49m\u001B[43m)\u001B[49m\u001B[43m,\u001B[49m\n\u001B[0;32m    689\u001B[0m \u001B[43m        \u001B[49m\u001B[43m)\u001B[49m\n\u001B[0;32m    690\u001B[0m \u001B[43m        \u001B[49m\u001B[38;5;28;43;01mfor\u001B[39;49;00m\u001B[43m \u001B[49m\u001B[43midx\u001B[49m\u001B[43m,\u001B[49m\u001B[43m \u001B[49m\u001B[43m(\u001B[49m\u001B[43mname\u001B[49m\u001B[43m,\u001B[49m\u001B[43m \u001B[49m\u001B[43mtrans\u001B[49m\u001B[43m,\u001B[49m\u001B[43m \u001B[49m\u001B[43mcolumn\u001B[49m\u001B[43m,\u001B[49m\u001B[43m \u001B[49m\u001B[43mweight\u001B[49m\u001B[43m)\u001B[49m\u001B[43m \u001B[49m\u001B[38;5;129;43;01min\u001B[39;49;00m\u001B[43m \u001B[49m\u001B[38;5;28;43menumerate\u001B[39;49m\u001B[43m(\u001B[49m\u001B[43mtransformers\u001B[49m\u001B[43m,\u001B[49m\u001B[43m \u001B[49m\u001B[38;5;241;43m1\u001B[39;49m\u001B[43m)\u001B[49m\n\u001B[0;32m    691\u001B[0m \u001B[43m    \u001B[49m\u001B[43m)\u001B[49m\n\u001B[0;32m    692\u001B[0m \u001B[38;5;28;01mexcept\u001B[39;00m \u001B[38;5;167;01mValueError\u001B[39;00m \u001B[38;5;28;01mas\u001B[39;00m e:\n\u001B[0;32m    693\u001B[0m     \u001B[38;5;28;01mif\u001B[39;00m \u001B[38;5;124m\"\u001B[39m\u001B[38;5;124mExpected 2D array, got 1D array instead\u001B[39m\u001B[38;5;124m\"\u001B[39m \u001B[38;5;129;01min\u001B[39;00m \u001B[38;5;28mstr\u001B[39m(e):\n",
      "File \u001B[1;32m~\\PycharmProjects\\puc-rio\\mvp-essi\\venv\\Lib\\site-packages\\sklearn\\utils\\parallel.py:65\u001B[0m, in \u001B[0;36mParallel.__call__\u001B[1;34m(self, iterable)\u001B[0m\n\u001B[0;32m     60\u001B[0m config \u001B[38;5;241m=\u001B[39m get_config()\n\u001B[0;32m     61\u001B[0m iterable_with_config \u001B[38;5;241m=\u001B[39m (\n\u001B[0;32m     62\u001B[0m     (_with_config(delayed_func, config), args, kwargs)\n\u001B[0;32m     63\u001B[0m     \u001B[38;5;28;01mfor\u001B[39;00m delayed_func, args, kwargs \u001B[38;5;129;01min\u001B[39;00m iterable\n\u001B[0;32m     64\u001B[0m )\n\u001B[1;32m---> 65\u001B[0m \u001B[38;5;28;01mreturn\u001B[39;00m \u001B[38;5;28;43msuper\u001B[39;49m\u001B[43m(\u001B[49m\u001B[43m)\u001B[49m\u001B[38;5;241;43m.\u001B[39;49m\u001B[38;5;21;43m__call__\u001B[39;49m\u001B[43m(\u001B[49m\u001B[43miterable_with_config\u001B[49m\u001B[43m)\u001B[49m\n",
      "File \u001B[1;32m~\\PycharmProjects\\puc-rio\\mvp-essi\\venv\\Lib\\site-packages\\joblib\\parallel.py:1863\u001B[0m, in \u001B[0;36mParallel.__call__\u001B[1;34m(self, iterable)\u001B[0m\n\u001B[0;32m   1861\u001B[0m     output \u001B[38;5;241m=\u001B[39m \u001B[38;5;28mself\u001B[39m\u001B[38;5;241m.\u001B[39m_get_sequential_output(iterable)\n\u001B[0;32m   1862\u001B[0m     \u001B[38;5;28mnext\u001B[39m(output)\n\u001B[1;32m-> 1863\u001B[0m     \u001B[38;5;28;01mreturn\u001B[39;00m output \u001B[38;5;28;01mif\u001B[39;00m \u001B[38;5;28mself\u001B[39m\u001B[38;5;241m.\u001B[39mreturn_generator \u001B[38;5;28;01melse\u001B[39;00m \u001B[38;5;28mlist\u001B[39m(output)\n\u001B[0;32m   1865\u001B[0m \u001B[38;5;66;03m# Let's create an ID that uniquely identifies the current call. If the\u001B[39;00m\n\u001B[0;32m   1866\u001B[0m \u001B[38;5;66;03m# call is interrupted early and that the same instance is immediately\u001B[39;00m\n\u001B[0;32m   1867\u001B[0m \u001B[38;5;66;03m# re-used, this id will be used to prevent workers that were\u001B[39;00m\n\u001B[0;32m   1868\u001B[0m \u001B[38;5;66;03m# concurrently finalizing a task from the previous call to run the\u001B[39;00m\n\u001B[0;32m   1869\u001B[0m \u001B[38;5;66;03m# callback.\u001B[39;00m\n\u001B[0;32m   1870\u001B[0m \u001B[38;5;28;01mwith\u001B[39;00m \u001B[38;5;28mself\u001B[39m\u001B[38;5;241m.\u001B[39m_lock:\n",
      "File \u001B[1;32m~\\PycharmProjects\\puc-rio\\mvp-essi\\venv\\Lib\\site-packages\\joblib\\parallel.py:1792\u001B[0m, in \u001B[0;36mParallel._get_sequential_output\u001B[1;34m(self, iterable)\u001B[0m\n\u001B[0;32m   1790\u001B[0m \u001B[38;5;28mself\u001B[39m\u001B[38;5;241m.\u001B[39mn_dispatched_batches \u001B[38;5;241m+\u001B[39m\u001B[38;5;241m=\u001B[39m \u001B[38;5;241m1\u001B[39m\n\u001B[0;32m   1791\u001B[0m \u001B[38;5;28mself\u001B[39m\u001B[38;5;241m.\u001B[39mn_dispatched_tasks \u001B[38;5;241m+\u001B[39m\u001B[38;5;241m=\u001B[39m \u001B[38;5;241m1\u001B[39m\n\u001B[1;32m-> 1792\u001B[0m res \u001B[38;5;241m=\u001B[39m \u001B[43mfunc\u001B[49m\u001B[43m(\u001B[49m\u001B[38;5;241;43m*\u001B[39;49m\u001B[43margs\u001B[49m\u001B[43m,\u001B[49m\u001B[43m \u001B[49m\u001B[38;5;241;43m*\u001B[39;49m\u001B[38;5;241;43m*\u001B[39;49m\u001B[43mkwargs\u001B[49m\u001B[43m)\u001B[49m\n\u001B[0;32m   1793\u001B[0m \u001B[38;5;28mself\u001B[39m\u001B[38;5;241m.\u001B[39mn_completed_tasks \u001B[38;5;241m+\u001B[39m\u001B[38;5;241m=\u001B[39m \u001B[38;5;241m1\u001B[39m\n\u001B[0;32m   1794\u001B[0m \u001B[38;5;28mself\u001B[39m\u001B[38;5;241m.\u001B[39mprint_progress()\n",
      "File \u001B[1;32m~\\PycharmProjects\\puc-rio\\mvp-essi\\venv\\Lib\\site-packages\\sklearn\\utils\\parallel.py:127\u001B[0m, in \u001B[0;36m_FuncWrapper.__call__\u001B[1;34m(self, *args, **kwargs)\u001B[0m\n\u001B[0;32m    125\u001B[0m     config \u001B[38;5;241m=\u001B[39m {}\n\u001B[0;32m    126\u001B[0m \u001B[38;5;28;01mwith\u001B[39;00m config_context(\u001B[38;5;241m*\u001B[39m\u001B[38;5;241m*\u001B[39mconfig):\n\u001B[1;32m--> 127\u001B[0m     \u001B[38;5;28;01mreturn\u001B[39;00m \u001B[38;5;28;43mself\u001B[39;49m\u001B[38;5;241;43m.\u001B[39;49m\u001B[43mfunction\u001B[49m\u001B[43m(\u001B[49m\u001B[38;5;241;43m*\u001B[39;49m\u001B[43margs\u001B[49m\u001B[43m,\u001B[49m\u001B[43m \u001B[49m\u001B[38;5;241;43m*\u001B[39;49m\u001B[38;5;241;43m*\u001B[39;49m\u001B[43mkwargs\u001B[49m\u001B[43m)\u001B[49m\n",
      "File \u001B[1;32m~\\PycharmProjects\\puc-rio\\mvp-essi\\venv\\Lib\\site-packages\\sklearn\\pipeline.py:940\u001B[0m, in \u001B[0;36m_transform_one\u001B[1;34m(transformer, X, y, weight, **fit_params)\u001B[0m\n\u001B[0;32m    939\u001B[0m \u001B[38;5;28;01mdef\u001B[39;00m \u001B[38;5;21m_transform_one\u001B[39m(transformer, X, y, weight, \u001B[38;5;241m*\u001B[39m\u001B[38;5;241m*\u001B[39mfit_params):\n\u001B[1;32m--> 940\u001B[0m     res \u001B[38;5;241m=\u001B[39m \u001B[43mtransformer\u001B[49m\u001B[38;5;241;43m.\u001B[39;49m\u001B[43mtransform\u001B[49m\u001B[43m(\u001B[49m\u001B[43mX\u001B[49m\u001B[43m)\u001B[49m\n\u001B[0;32m    941\u001B[0m     \u001B[38;5;66;03m# if we have a weight for this transformer, multiply output\u001B[39;00m\n\u001B[0;32m    942\u001B[0m     \u001B[38;5;28;01mif\u001B[39;00m weight \u001B[38;5;129;01mis\u001B[39;00m \u001B[38;5;28;01mNone\u001B[39;00m:\n",
      "File \u001B[1;32m~\\PycharmProjects\\puc-rio\\mvp-essi\\venv\\Lib\\site-packages\\sklearn\\pipeline.py:696\u001B[0m, in \u001B[0;36mPipeline.transform\u001B[1;34m(self, X)\u001B[0m\n\u001B[0;32m    694\u001B[0m Xt \u001B[38;5;241m=\u001B[39m X\n\u001B[0;32m    695\u001B[0m \u001B[38;5;28;01mfor\u001B[39;00m _, _, transform \u001B[38;5;129;01min\u001B[39;00m \u001B[38;5;28mself\u001B[39m\u001B[38;5;241m.\u001B[39m_iter():\n\u001B[1;32m--> 696\u001B[0m     Xt \u001B[38;5;241m=\u001B[39m \u001B[43mtransform\u001B[49m\u001B[38;5;241;43m.\u001B[39;49m\u001B[43mtransform\u001B[49m\u001B[43m(\u001B[49m\u001B[43mXt\u001B[49m\u001B[43m)\u001B[49m\n\u001B[0;32m    697\u001B[0m \u001B[38;5;28;01mreturn\u001B[39;00m Xt\n",
      "File \u001B[1;32m~\\PycharmProjects\\puc-rio\\mvp-essi\\venv\\Lib\\site-packages\\sklearn\\utils\\_set_output.py:157\u001B[0m, in \u001B[0;36m_wrap_method_output.<locals>.wrapped\u001B[1;34m(self, X, *args, **kwargs)\u001B[0m\n\u001B[0;32m    155\u001B[0m \u001B[38;5;129m@wraps\u001B[39m(f)\n\u001B[0;32m    156\u001B[0m \u001B[38;5;28;01mdef\u001B[39;00m \u001B[38;5;21mwrapped\u001B[39m(\u001B[38;5;28mself\u001B[39m, X, \u001B[38;5;241m*\u001B[39margs, \u001B[38;5;241m*\u001B[39m\u001B[38;5;241m*\u001B[39mkwargs):\n\u001B[1;32m--> 157\u001B[0m     data_to_wrap \u001B[38;5;241m=\u001B[39m \u001B[43mf\u001B[49m\u001B[43m(\u001B[49m\u001B[38;5;28;43mself\u001B[39;49m\u001B[43m,\u001B[49m\u001B[43m \u001B[49m\u001B[43mX\u001B[49m\u001B[43m,\u001B[49m\u001B[43m \u001B[49m\u001B[38;5;241;43m*\u001B[39;49m\u001B[43margs\u001B[49m\u001B[43m,\u001B[49m\u001B[43m \u001B[49m\u001B[38;5;241;43m*\u001B[39;49m\u001B[38;5;241;43m*\u001B[39;49m\u001B[43mkwargs\u001B[49m\u001B[43m)\u001B[49m\n\u001B[0;32m    158\u001B[0m     \u001B[38;5;28;01mif\u001B[39;00m \u001B[38;5;28misinstance\u001B[39m(data_to_wrap, \u001B[38;5;28mtuple\u001B[39m):\n\u001B[0;32m    159\u001B[0m         \u001B[38;5;66;03m# only wrap the first output for cross decomposition\u001B[39;00m\n\u001B[0;32m    160\u001B[0m         return_tuple \u001B[38;5;241m=\u001B[39m (\n\u001B[0;32m    161\u001B[0m             _wrap_data_with_container(method, data_to_wrap[\u001B[38;5;241m0\u001B[39m], X, \u001B[38;5;28mself\u001B[39m),\n\u001B[0;32m    162\u001B[0m             \u001B[38;5;241m*\u001B[39mdata_to_wrap[\u001B[38;5;241m1\u001B[39m:],\n\u001B[0;32m    163\u001B[0m         )\n",
      "File \u001B[1;32m~\\PycharmProjects\\puc-rio\\mvp-essi\\venv\\Lib\\site-packages\\sklearn\\impute\\_base.py:530\u001B[0m, in \u001B[0;36mSimpleImputer.transform\u001B[1;34m(self, X)\u001B[0m\n\u001B[0;32m    515\u001B[0m \u001B[38;5;250m\u001B[39m\u001B[38;5;124;03m\"\"\"Impute all missing values in `X`.\u001B[39;00m\n\u001B[0;32m    516\u001B[0m \n\u001B[0;32m    517\u001B[0m \u001B[38;5;124;03mParameters\u001B[39;00m\n\u001B[1;32m   (...)\u001B[0m\n\u001B[0;32m    526\u001B[0m \u001B[38;5;124;03m    `X` with imputed values.\u001B[39;00m\n\u001B[0;32m    527\u001B[0m \u001B[38;5;124;03m\"\"\"\u001B[39;00m\n\u001B[0;32m    528\u001B[0m check_is_fitted(\u001B[38;5;28mself\u001B[39m)\n\u001B[1;32m--> 530\u001B[0m X \u001B[38;5;241m=\u001B[39m \u001B[38;5;28;43mself\u001B[39;49m\u001B[38;5;241;43m.\u001B[39;49m\u001B[43m_validate_input\u001B[49m\u001B[43m(\u001B[49m\u001B[43mX\u001B[49m\u001B[43m,\u001B[49m\u001B[43m \u001B[49m\u001B[43min_fit\u001B[49m\u001B[38;5;241;43m=\u001B[39;49m\u001B[38;5;28;43;01mFalse\u001B[39;49;00m\u001B[43m)\u001B[49m\n\u001B[0;32m    531\u001B[0m statistics \u001B[38;5;241m=\u001B[39m \u001B[38;5;28mself\u001B[39m\u001B[38;5;241m.\u001B[39mstatistics_\n\u001B[0;32m    533\u001B[0m \u001B[38;5;28;01mif\u001B[39;00m X\u001B[38;5;241m.\u001B[39mshape[\u001B[38;5;241m1\u001B[39m] \u001B[38;5;241m!=\u001B[39m statistics\u001B[38;5;241m.\u001B[39mshape[\u001B[38;5;241m0\u001B[39m]:\n",
      "File \u001B[1;32m~\\PycharmProjects\\puc-rio\\mvp-essi\\venv\\Lib\\site-packages\\sklearn\\impute\\_base.py:330\u001B[0m, in \u001B[0;36mSimpleImputer._validate_input\u001B[1;34m(self, X, in_fit)\u001B[0m\n\u001B[0;32m    324\u001B[0m \u001B[38;5;28;01mif\u001B[39;00m \u001B[38;5;124m\"\u001B[39m\u001B[38;5;124mcould not convert\u001B[39m\u001B[38;5;124m\"\u001B[39m \u001B[38;5;129;01min\u001B[39;00m \u001B[38;5;28mstr\u001B[39m(ve):\n\u001B[0;32m    325\u001B[0m     new_ve \u001B[38;5;241m=\u001B[39m \u001B[38;5;167;01mValueError\u001B[39;00m(\n\u001B[0;32m    326\u001B[0m         \u001B[38;5;124m\"\u001B[39m\u001B[38;5;124mCannot use \u001B[39m\u001B[38;5;132;01m{}\u001B[39;00m\u001B[38;5;124m strategy with non-numeric data:\u001B[39m\u001B[38;5;130;01m\\n\u001B[39;00m\u001B[38;5;132;01m{}\u001B[39;00m\u001B[38;5;124m\"\u001B[39m\u001B[38;5;241m.\u001B[39mformat(\n\u001B[0;32m    327\u001B[0m             \u001B[38;5;28mself\u001B[39m\u001B[38;5;241m.\u001B[39mstrategy, ve\n\u001B[0;32m    328\u001B[0m         )\n\u001B[0;32m    329\u001B[0m     )\n\u001B[1;32m--> 330\u001B[0m     \u001B[38;5;28;01mraise\u001B[39;00m new_ve \u001B[38;5;28;01mfrom\u001B[39;00m \u001B[38;5;28;01mNone\u001B[39;00m\n\u001B[0;32m    331\u001B[0m \u001B[38;5;28;01melse\u001B[39;00m:\n\u001B[0;32m    332\u001B[0m     \u001B[38;5;28;01mraise\u001B[39;00m ve\n",
      "\u001B[1;31mValueError\u001B[0m: Cannot use median strategy with non-numeric data:\ncould not convert string to float: 'male'"
     ]
    }
   ],
   "source": [
    "# Função para exibir a predição com cores\n",
    "def exibir_predicao(predicao, numero_teste):\n",
    "    cor = \"green\" if predicao[0] == 1 else \"red\"\n",
    "    status = \"sobreviveu\" if predicao[0] == 1 else \"não sobreviveu\"\n",
    "    return HTML(f\"<b>Predição {numero_teste}:</b> Passageiro <span style='color: {cor};'>{status}</span>\")\n",
    "\n",
    "\n",
    "# Carregar o modelo\n",
    "modelo = joblib.load('_titanic.pkl')\n",
    "\n",
    "# Dados de entrada\n",
    "#Pclass,Name,Sex,Age,SibSp,Parch,Ticket,Fare,Cabin,Embarked\n",
    "entrada1 = {\n",
    "    'Pclass': 3,\n",
    "    'Name': 'Mr. Owen Harris Braund',\n",
    "    'Sex': 'male',\n",
    "    'Age': 22,\n",
    "    'SibSp': 1,\n",
    "    'Parch': 0,\n",
    "    'Ticket': 'A/5 21171',\n",
    "    'Fare': 7.25,\n",
    "    'Cabin': '',\n",
    "    'Embarked': 'S'\n",
    "}\n",
    "\n",
    "entrada1 = pd.DataFrame(entrada1, index=[0])\n",
    "predicao1 = modelo.predict(entrada1)\n",
    "display(exibir_predicao(predicao1, 1))\n",
    "# Teste 2\n",
    "\n",
    "# Dados de entrada\n",
    "\n",
    "entrada2 = {\n",
    "    'Pclass': 1,\n",
    "    'Name': 'Mrs. John Bradley (Florence Briggs Thayer) Cumings',\n",
    "    'Sex': 'female',\n",
    "    'Age': 38,\n",
    "    'SibSp': 1,\n",
    "    'Parch': 0,\n",
    "    'Ticket': 'PC 17599',\n",
    "    'Fare': 71.2833,\n",
    "    'Cabin': 'C85',\n",
    "    'Embarked': 'C'\n",
    "}\n",
    "\n",
    "# Preparar e exibir a segunda predição\n",
    "entrada2 = pd.DataFrame(entrada2, index=[0])\n",
    "predicao2 = modelo.predict(entrada2)\n",
    "display(exibir_predicao(predicao2, 2))"
   ],
   "metadata": {
    "collapsed": false,
    "ExecuteTime": {
     "end_time": "2023-12-10T01:11:55.316360400Z",
     "start_time": "2023-12-10T01:11:53.563818400Z"
    }
   },
   "id": "e1bc4a54e83b79d7"
  },
  {
   "cell_type": "code",
   "execution_count": null,
   "outputs": [],
   "source": [],
   "metadata": {
    "collapsed": false,
    "ExecuteTime": {
     "end_time": "2023-12-10T01:11:55.325376200Z",
     "start_time": "2023-12-10T01:11:55.322376600Z"
    }
   },
   "id": "4ca54cfe5cd006b4"
  }
 ],
 "metadata": {
  "kernelspec": {
   "display_name": "Python 3",
   "language": "python",
   "name": "python3"
  },
  "language_info": {
   "codemirror_mode": {
    "name": "ipython",
    "version": 2
   },
   "file_extension": ".py",
   "mimetype": "text/x-python",
   "name": "python",
   "nbconvert_exporter": "python",
   "pygments_lexer": "ipython2",
   "version": "2.7.6"
  }
 },
 "nbformat": 4,
 "nbformat_minor": 5
}
