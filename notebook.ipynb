{
 "cells": [
  {
   "cell_type": "markdown",
   "source": [
    "# ESSI - MVP - PUC-RIO - Bruno Bastos\n",
    "Este notebook contém o código para treinamento e avaliação dos modelos de classificação do dataset Titanic.\n",
    "Este projeto faz parte da última sprint do curso de enenharia de software da PUC-RIO."
   ],
   "metadata": {
    "collapsed": false
   },
   "id": "b7d3f4d899bc2c48"
  },
  {
   "cell_type": "markdown",
   "source": [
    "#Importações"
   ],
   "metadata": {
    "collapsed": false
   },
   "id": "e1f9d840f986e9a9"
  },
  {
   "cell_type": "code",
   "execution_count": 13,
   "outputs": [],
   "source": [
    "import pandas as pd\n",
    "from sklearn.model_selection import train_test_split, GridSearchCV, StratifiedKFold, cross_val_score\n",
    "from sklearn.preprocessing import StandardScaler, OneHotEncoder, MinMaxScaler\n",
    "from sklearn.impute import SimpleImputer\n",
    "from sklearn.compose import ColumnTransformer\n",
    "from sklearn.pipeline import Pipeline\n",
    "from sklearn.neighbors import KNeighborsClassifier\n",
    "from sklearn.naive_bayes import GaussianNB\n",
    "from sklearn.tree import DecisionTreeClassifier\n",
    "from sklearn.svm import SVC\n",
    "from sklearn.metrics import accuracy_score\n",
    "import joblib\n",
    "from IPython.display import HTML\n",
    "import warnings\n",
    "\n",
    "warnings.filterwarnings('ignore')\n"
   ],
   "metadata": {
    "collapsed": false,
    "ExecuteTime": {
     "end_time": "2023-12-09T03:25:47.875599200Z",
     "start_time": "2023-12-09T03:25:47.842228100Z"
    }
   },
   "id": "4b0200356d46de0f"
  },
  {
   "cell_type": "markdown",
   "source": [
    "#Carregando os dados"
   ],
   "metadata": {
    "collapsed": false
   },
   "id": "1643413b85f9f8d2"
  },
  {
   "cell_type": "code",
   "execution_count": 3,
   "outputs": [],
   "source": [
    "# Carregar o dataset\n",
    "url = \"https://raw.githubusercontent.com/BrunoBasstos/mvp-essi/main/.src/titanic-dataset.csv\"\n",
    "data = pd.read_csv(url)\n",
    "\n",
    "# Selecionar colunas relevantes\n",
    "colunas = ['Survived', 'Pclass', 'Sex', 'Age', 'SibSp', 'Parch', 'Fare', 'Embarked']\n",
    "data = data[colunas]"
   ],
   "metadata": {
    "collapsed": false,
    "ExecuteTime": {
     "end_time": "2023-12-09T03:08:37.637385700Z",
     "start_time": "2023-12-09T03:08:37.195128700Z"
    }
   },
   "id": "f4e01f1c43353c30"
  },
  {
   "cell_type": "markdown",
   "source": [
    "#Separando os dados "
   ],
   "metadata": {
    "collapsed": false
   },
   "id": "d47f73e33144d4"
  },
  {
   "cell_type": "code",
   "execution_count": 4,
   "outputs": [],
   "source": [
    "# Divisão dos dados em treino e teste\n",
    "X = data.drop('Survived', axis=1)\n",
    "y = data['Survived']\n",
    "X_train, X_test, y_train, y_test = train_test_split(X, y, test_size=0.2, random_state=42)\n",
    "\n",
    "# Separando os dados em numéricos e categóricos\n",
    "num_features = ['Age', 'SibSp', 'Parch', 'Fare']\n",
    "cat_features = ['Pclass', 'Sex', 'Embarked']"
   ],
   "metadata": {
    "collapsed": false,
    "ExecuteTime": {
     "end_time": "2023-12-09T03:08:37.664621800Z",
     "start_time": "2023-12-09T03:08:37.643466500Z"
    }
   },
   "id": "bddf509b6b51984d"
  },
  {
   "cell_type": "markdown",
   "source": [
    "# Definição dos modelos e pré-processadores"
   ],
   "metadata": {
    "collapsed": false
   },
   "id": "40ef69f23f3db355"
  },
  {
   "cell_type": "code",
   "execution_count": 5,
   "outputs": [],
   "source": [
    "# Configurações dos modelos\n",
    "modelos = {\n",
    "    'KNN': KNeighborsClassifier(),\n",
    "    'NB': GaussianNB(),\n",
    "    'CART': DecisionTreeClassifier(random_state=42),\n",
    "    'SVM': SVC(random_state=42)\n",
    "}\n",
    "\n",
    "parametros = {\n",
    "    'KNN': {'classifier__n_neighbors': [3, 5, 7, 9]},\n",
    "    'NB': {},  # Naive Bayes não tem hiperparâmetros relevantes para ajustar neste caso\n",
    "    'CART': {'classifier__max_depth': [3, 5, 7, None]},\n",
    "    'SVM': {'classifier__C': [0.1, 1, 10, 100], 'classifier__gamma': ['scale', 'auto']}\n",
    "}\n",
    "\n",
    "# Preparação de Pré-processadores\n",
    "preprocessors = {\n",
    "    'original': ColumnTransformer(transformers=[\n",
    "        ('num', SimpleImputer(strategy='median'), num_features),\n",
    "        ('cat', OneHotEncoder(handle_unknown='ignore'), cat_features)]),\n",
    "    'padronizado': ColumnTransformer(transformers=[\n",
    "        ('num', Pipeline([('imputer', SimpleImputer(strategy='median')), ('scaler', StandardScaler())]), num_features),\n",
    "        ('cat', OneHotEncoder(handle_unknown='ignore'), cat_features)]),\n",
    "    'normalizado': ColumnTransformer(transformers=[\n",
    "        ('num', Pipeline([('imputer', SimpleImputer(strategy='median')), ('scaler', MinMaxScaler())]), num_features),\n",
    "        ('cat', OneHotEncoder(handle_unknown='ignore'), cat_features)])\n",
    "}"
   ],
   "metadata": {
    "collapsed": false,
    "ExecuteTime": {
     "end_time": "2023-12-09T03:08:37.709734900Z",
     "start_time": "2023-12-09T03:08:37.669444700Z"
    }
   },
   "id": "eb369b315ea48f83"
  },
  {
   "cell_type": "markdown",
   "source": [
    "# Treinamento e avaliação dos modelos"
   ],
   "metadata": {
    "collapsed": false
   },
   "id": "ecf1cf7c50206abe"
  },
  {
   "cell_type": "code",
   "execution_count": 6,
   "outputs": [
    {
     "name": "stdout",
     "output_type": "stream",
     "text": [
      "original - KNN: Melhor Score = 0.7239285714285714\n",
      "original - NB: Melhor Score = 0.8481959706959706\n",
      "original - CART: Melhor Score = 0.8749358974358975\n",
      "original - SVM: Melhor Score = 0.842445054945055\n",
      "padronizado - KNN: Melhor Score = 0.8625183150183149\n",
      "padronizado - NB: Melhor Score = 0.7699450549450549\n",
      "padronizado - CART: Melhor Score = 0.8758974358974358\n",
      "padronizado - SVM: Melhor Score = 0.8673260073260074\n",
      "normalizado - KNN: Melhor Score = 0.8587087912087913\n",
      "normalizado - NB: Melhor Score = 0.7565750915750915\n",
      "normalizado - CART: Melhor Score = 0.8749358974358975\n",
      "normalizado - SVM: Melhor Score = 0.8663461538461539\n"
     ]
    }
   ],
   "source": [
    "# Avaliação dos Modelos com Diferentes Pré-processamentos\n",
    "kfold = StratifiedKFold(n_splits=10, shuffle=True, random_state=42)\n",
    "melhores_resultados = {}\n",
    "\n",
    "for preproc_nome, preproc in preprocessors.items():\n",
    "    for nome_modelo, modelo in modelos.items():\n",
    "        pipeline = Pipeline([('preprocessor', preproc), ('classifier', modelo)])\n",
    "        if parametros[nome_modelo]:\n",
    "            grid_search = GridSearchCV(pipeline, parametros[nome_modelo], cv=kfold, scoring='accuracy')\n",
    "            grid_search.fit(X_train, y_train)\n",
    "            melhor_modelo = grid_search.best_estimator_\n",
    "            score = grid_search.best_score_\n",
    "        else:\n",
    "            melhor_modelo = pipeline\n",
    "            melhor_modelo.fit(X_train, y_train)\n",
    "            score = cross_val_score(melhor_modelo, X_train, y_train, cv=kfold, scoring='accuracy').mean()\n",
    "\n",
    "        print(f\"{preproc_nome} - {nome_modelo}: Melhor Score = {score}\")\n",
    "        melhores_resultados[f\"{preproc_nome}_{nome_modelo}\"] = (melhor_modelo, score)"
   ],
   "metadata": {
    "collapsed": false,
    "ExecuteTime": {
     "end_time": "2023-12-09T03:09:06.714740200Z",
     "start_time": "2023-12-09T03:08:37.683684200Z"
    }
   },
   "id": "c044694e672c89c9"
  },
  {
   "cell_type": "markdown",
   "source": [
    "# Escolhe, treina e salva o melhor modelo"
   ],
   "metadata": {
    "collapsed": false
   },
   "id": "50ffe484aebff05b"
  },
  {
   "cell_type": "code",
   "execution_count": 7,
   "outputs": [
    {
     "name": "stdout",
     "output_type": "stream",
     "text": [
      "Acurácia do melhor modelo no conjunto de teste: 0.851145038167939\n",
      "Melhor modelo geral (padronizado_CART) exportado como 'melhor_modelo_titanic.pkl'\n"
     ]
    }
   ],
   "source": [
    "# Escolher e Exportar o Melhor Modelo Geral\n",
    "melhor_modelo_geral = max(melhores_resultados.items(), key=lambda x: x[1][1])\n",
    "\n",
    "# Treinar o melhor modelo geral com todo o conjunto de treinamento\n",
    "melhor_modelo_geral[1][0].fit(X_train, y_train)\n",
    "\n",
    "# Avaliar a acurácia do melhor modelo no conjunto de teste\n",
    "y_pred = melhor_modelo_geral[1][0].predict(X_test)\n",
    "accuracy = accuracy_score(y_test, y_pred)\n",
    "print(f\"Acurácia do melhor modelo no conjunto de teste: {accuracy}\")\n",
    "\n",
    "# Exportar o melhor modelo\n",
    "joblib.dump(melhor_modelo_geral[1][0], 'melhor_modelo_titanic.pkl')\n",
    "print(f\"Melhor modelo geral ({melhor_modelo_geral[0]}) exportado como 'melhor_modelo_titanic.pkl'\")\n"
   ],
   "metadata": {
    "collapsed": false,
    "ExecuteTime": {
     "end_time": "2023-12-09T03:09:06.791460100Z",
     "start_time": "2023-12-09T03:09:06.714740200Z"
    }
   },
   "id": "3923a219346836b"
  },
  {
   "cell_type": "markdown",
   "source": [
    "# Exemplo de uso do modelo"
   ],
   "metadata": {
    "collapsed": false
   },
   "id": "3dad6612c5d202e1"
  },
  {
   "cell_type": "code",
   "execution_count": 14,
   "outputs": [
    {
     "data": {
      "text/plain": "<IPython.core.display.HTML object>",
      "text/html": "<b>Predição 1:</b> Passageiro <span style='color: red;'>não sobreviveu</span>"
     },
     "metadata": {},
     "output_type": "display_data"
    },
    {
     "data": {
      "text/plain": "<IPython.core.display.HTML object>",
      "text/html": "<b>Predição 2:</b> Passageiro <span style='color: green;'>sobreviveu</span>"
     },
     "metadata": {},
     "output_type": "display_data"
    }
   ],
   "source": [
    "# Função para exibir a predição com cores\n",
    "def exibir_predicao(predicao, numero_teste):\n",
    "    cor = \"green\" if predicao[0] == 1 else \"red\"\n",
    "    status = \"sobreviveu\" if predicao[0] == 1 else \"não sobreviveu\"\n",
    "    return HTML(f\"<b>Predição {numero_teste}:</b> Passageiro <span style='color: {cor};'>{status}</span>\")\n",
    "\n",
    "\n",
    "# Carregar o modelo\n",
    "modelo = joblib.load('melhor_modelo_titanic.pkl')\n",
    "\n",
    "# Dados de entrada\n",
    "#Pclass,Name,Sex,Age,SibSp,Parch,Ticket,Fare,Cabin,Embarked\n",
    "entrada1 = {\n",
    "    'Pclass': 3,\n",
    "    'Name': 'Mr. Owen Harris Braund',\n",
    "    'Sex': 'male',\n",
    "    'Age': 22,\n",
    "    'SibSp': 1,\n",
    "    'Parch': 0,\n",
    "    'Ticket': 'A/5 21171',\n",
    "    'Fare': 7.25,\n",
    "    'Cabin': '',\n",
    "    'Embarked': 'S'\n",
    "}\n",
    "\n",
    "entrada1 = pd.DataFrame(entrada1, index=[0])\n",
    "predicao1 = modelo.predict(entrada1)\n",
    "display(exibir_predicao(predicao1, 1))\n",
    "# Teste 2\n",
    "\n",
    "# Dados de entrada\n",
    "\n",
    "entrada2 = {\n",
    "    'Pclass': 1,\n",
    "    'Name': 'Mrs. John Bradley (Florence Briggs Thayer) Cumings',\n",
    "    'Sex': 'female',\n",
    "    'Age': 38,\n",
    "    'SibSp': 1,\n",
    "    'Parch': 0,\n",
    "    'Ticket': 'PC 17599',\n",
    "    'Fare': 71.2833,\n",
    "    'Cabin': 'C85',\n",
    "    'Embarked': 'C'\n",
    "}\n",
    "\n",
    "# Preparar e exibir a segunda predição\n",
    "entrada2 = pd.DataFrame(entrada2, index=[0])\n",
    "predicao2 = modelo.predict(entrada2)\n",
    "display(exibir_predicao(predicao2, 2))"
   ],
   "metadata": {
    "collapsed": false,
    "ExecuteTime": {
     "end_time": "2023-12-09T03:26:04.064910600Z",
     "start_time": "2023-12-09T03:26:03.874844100Z"
    }
   },
   "id": "5f64fa6e211ae303"
  },
  {
   "cell_type": "code",
   "execution_count": null,
   "outputs": [],
   "source": [],
   "metadata": {
    "collapsed": false
   },
   "id": "5c528c2fdcdc5cde"
  }
 ],
 "metadata": {
  "kernelspec": {
   "display_name": "Python 3",
   "language": "python",
   "name": "python3"
  },
  "language_info": {
   "codemirror_mode": {
    "name": "ipython",
    "version": 2
   },
   "file_extension": ".py",
   "mimetype": "text/x-python",
   "name": "python",
   "nbconvert_exporter": "python",
   "pygments_lexer": "ipython2",
   "version": "2.7.6"
  }
 },
 "nbformat": 4,
 "nbformat_minor": 5
}
